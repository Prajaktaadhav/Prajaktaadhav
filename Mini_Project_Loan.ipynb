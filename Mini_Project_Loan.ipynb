{
 "cells": [
  {
   "cell_type": "markdown",
   "id": "5d2d569c",
   "metadata": {},
   "source": [
    "# GROUP 1 - MINI PROJECT\n",
    "### TOPIC - LOAN DATASET"
   ]
  },
  {
   "cell_type": "code",
   "execution_count": 2,
   "id": "119ec95d",
   "metadata": {},
   "outputs": [],
   "source": [
    "import numpy as np\n",
    "import pandas as pd\n",
    "import matplotlib.pyplot as plt\n",
    "import seaborn as sns"
   ]
  },
  {
   "cell_type": "markdown",
   "id": "ade24a93",
   "metadata": {},
   "source": [
    "### 1. Import the dataset and understand it."
   ]
  },
  {
   "cell_type": "code",
   "execution_count": 3,
   "id": "b08e9cd8",
   "metadata": {
    "scrolled": true
   },
   "outputs": [
    {
     "data": {
      "text/html": [
       "<div>\n",
       "<style scoped>\n",
       "    .dataframe tbody tr th:only-of-type {\n",
       "        vertical-align: middle;\n",
       "    }\n",
       "\n",
       "    .dataframe tbody tr th {\n",
       "        vertical-align: top;\n",
       "    }\n",
       "\n",
       "    .dataframe thead th {\n",
       "        text-align: right;\n",
       "    }\n",
       "</style>\n",
       "<table border=\"1\" class=\"dataframe\">\n",
       "  <thead>\n",
       "    <tr style=\"text-align: right;\">\n",
       "      <th></th>\n",
       "      <th>id</th>\n",
       "      <th>member_id</th>\n",
       "      <th>loan_amnt</th>\n",
       "      <th>funded_amnt</th>\n",
       "      <th>funded_amnt_inv</th>\n",
       "      <th>term</th>\n",
       "      <th>int_rate</th>\n",
       "      <th>installment</th>\n",
       "      <th>grade</th>\n",
       "      <th>emp_length</th>\n",
       "      <th>...</th>\n",
       "      <th>purpose</th>\n",
       "      <th>dti</th>\n",
       "      <th>total_pymnt</th>\n",
       "      <th>total_pymnt_inv</th>\n",
       "      <th>total_rec_prncp</th>\n",
       "      <th>total_rec_int</th>\n",
       "      <th>last_pymnt_d</th>\n",
       "      <th>last_pymnt_amnt</th>\n",
       "      <th>Unnamed: 21</th>\n",
       "      <th>Unnamed: 22</th>\n",
       "    </tr>\n",
       "  </thead>\n",
       "  <tbody>\n",
       "    <tr>\n",
       "      <th>0</th>\n",
       "      <td>1077501</td>\n",
       "      <td>1296599</td>\n",
       "      <td>5000</td>\n",
       "      <td>5000</td>\n",
       "      <td>4975.0</td>\n",
       "      <td>36 months</td>\n",
       "      <td>10.65%</td>\n",
       "      <td>162.87</td>\n",
       "      <td>B</td>\n",
       "      <td>10+ years</td>\n",
       "      <td>...</td>\n",
       "      <td>credit_card</td>\n",
       "      <td>27.65</td>\n",
       "      <td>5863.155187</td>\n",
       "      <td>5833.84</td>\n",
       "      <td>5000.00</td>\n",
       "      <td>863.16</td>\n",
       "      <td>Jan-15</td>\n",
       "      <td>171.62</td>\n",
       "      <td>NaN</td>\n",
       "      <td>NaN</td>\n",
       "    </tr>\n",
       "    <tr>\n",
       "      <th>1</th>\n",
       "      <td>1077430</td>\n",
       "      <td>1314167</td>\n",
       "      <td>2500</td>\n",
       "      <td>2500</td>\n",
       "      <td>2500.0</td>\n",
       "      <td>60 months</td>\n",
       "      <td>15.27%</td>\n",
       "      <td>59.83</td>\n",
       "      <td>C</td>\n",
       "      <td>&lt; 1 year</td>\n",
       "      <td>...</td>\n",
       "      <td>car</td>\n",
       "      <td>1.00</td>\n",
       "      <td>1008.710000</td>\n",
       "      <td>1008.71</td>\n",
       "      <td>456.46</td>\n",
       "      <td>435.17</td>\n",
       "      <td>Apr-13</td>\n",
       "      <td>119.66</td>\n",
       "      <td>NaN</td>\n",
       "      <td>NaN</td>\n",
       "    </tr>\n",
       "    <tr>\n",
       "      <th>2</th>\n",
       "      <td>1077175</td>\n",
       "      <td>1313524</td>\n",
       "      <td>2400</td>\n",
       "      <td>2400</td>\n",
       "      <td>2400.0</td>\n",
       "      <td>36 months</td>\n",
       "      <td>15.96%</td>\n",
       "      <td>84.33</td>\n",
       "      <td>C</td>\n",
       "      <td>10+ years</td>\n",
       "      <td>...</td>\n",
       "      <td>small_business</td>\n",
       "      <td>8.72</td>\n",
       "      <td>3005.666844</td>\n",
       "      <td>3005.67</td>\n",
       "      <td>2400.00</td>\n",
       "      <td>605.67</td>\n",
       "      <td>Jun-14</td>\n",
       "      <td>649.91</td>\n",
       "      <td>NaN</td>\n",
       "      <td>NaN</td>\n",
       "    </tr>\n",
       "    <tr>\n",
       "      <th>3</th>\n",
       "      <td>1076863</td>\n",
       "      <td>1277178</td>\n",
       "      <td>10000</td>\n",
       "      <td>10000</td>\n",
       "      <td>10000.0</td>\n",
       "      <td>36 months</td>\n",
       "      <td>13.49%</td>\n",
       "      <td>339.31</td>\n",
       "      <td>C</td>\n",
       "      <td>10+ years</td>\n",
       "      <td>...</td>\n",
       "      <td>other</td>\n",
       "      <td>20.00</td>\n",
       "      <td>12231.890000</td>\n",
       "      <td>12231.89</td>\n",
       "      <td>10000.00</td>\n",
       "      <td>2214.92</td>\n",
       "      <td>Jan-15</td>\n",
       "      <td>357.48</td>\n",
       "      <td>NaN</td>\n",
       "      <td>NaN</td>\n",
       "    </tr>\n",
       "    <tr>\n",
       "      <th>4</th>\n",
       "      <td>1075358</td>\n",
       "      <td>1311748</td>\n",
       "      <td>3000</td>\n",
       "      <td>3000</td>\n",
       "      <td>3000.0</td>\n",
       "      <td>60 months</td>\n",
       "      <td>12.69%</td>\n",
       "      <td>67.79</td>\n",
       "      <td>B</td>\n",
       "      <td>1 year</td>\n",
       "      <td>...</td>\n",
       "      <td>other</td>\n",
       "      <td>17.94</td>\n",
       "      <td>3513.330000</td>\n",
       "      <td>3513.33</td>\n",
       "      <td>2475.94</td>\n",
       "      <td>1037.39</td>\n",
       "      <td>May-16</td>\n",
       "      <td>67.79</td>\n",
       "      <td>NaN</td>\n",
       "      <td>NaN</td>\n",
       "    </tr>\n",
       "  </tbody>\n",
       "</table>\n",
       "<p>5 rows × 23 columns</p>\n",
       "</div>"
      ],
      "text/plain": [
       "        id  member_id  loan_amnt  funded_amnt  funded_amnt_inv        term  \\\n",
       "0  1077501    1296599       5000         5000           4975.0   36 months   \n",
       "1  1077430    1314167       2500         2500           2500.0   60 months   \n",
       "2  1077175    1313524       2400         2400           2400.0   36 months   \n",
       "3  1076863    1277178      10000        10000          10000.0   36 months   \n",
       "4  1075358    1311748       3000         3000           3000.0   60 months   \n",
       "\n",
       "  int_rate  installment grade emp_length  ...         purpose    dti  \\\n",
       "0   10.65%       162.87     B  10+ years  ...     credit_card  27.65   \n",
       "1   15.27%        59.83     C   < 1 year  ...             car   1.00   \n",
       "2   15.96%        84.33     C  10+ years  ...  small_business   8.72   \n",
       "3   13.49%       339.31     C  10+ years  ...           other  20.00   \n",
       "4   12.69%        67.79     B     1 year  ...           other  17.94   \n",
       "\n",
       "    total_pymnt total_pymnt_inv  total_rec_prncp  total_rec_int  last_pymnt_d  \\\n",
       "0   5863.155187         5833.84          5000.00         863.16        Jan-15   \n",
       "1   1008.710000         1008.71           456.46         435.17        Apr-13   \n",
       "2   3005.666844         3005.67          2400.00         605.67        Jun-14   \n",
       "3  12231.890000        12231.89         10000.00        2214.92        Jan-15   \n",
       "4   3513.330000         3513.33          2475.94        1037.39        May-16   \n",
       "\n",
       "   last_pymnt_amnt  Unnamed: 21 Unnamed: 22  \n",
       "0           171.62          NaN         NaN  \n",
       "1           119.66          NaN         NaN  \n",
       "2           649.91          NaN         NaN  \n",
       "3           357.48          NaN         NaN  \n",
       "4            67.79          NaN         NaN  \n",
       "\n",
       "[5 rows x 23 columns]"
      ]
     },
     "execution_count": 3,
     "metadata": {},
     "output_type": "execute_result"
    }
   ],
   "source": [
    "df=pd.read_csv('loan.csv')\n",
    "df.head(5)"
   ]
  },
  {
   "cell_type": "markdown",
   "id": "fb361df2",
   "metadata": {},
   "source": [
    "### 2. List down the number of rows and columns."
   ]
  },
  {
   "cell_type": "code",
   "execution_count": 5,
   "id": "5939dccf",
   "metadata": {},
   "outputs": [
    {
     "name": "stdout",
     "output_type": "stream",
     "text": [
      "(39717, 23)\n",
      "Total number of rows are 39717 and columns are 23\n"
     ]
    }
   ],
   "source": [
    "print(df.shape)\n",
    "print('Total number of rows are {} and columns are {}'.format(39717,23))"
   ]
  },
  {
   "cell_type": "markdown",
   "id": "00f02b76",
   "metadata": {},
   "source": [
    "The total number of rows are 39717 and columns are 23 in the given Loan Dataset."
   ]
  },
  {
   "cell_type": "markdown",
   "id": "fefce56f",
   "metadata": {},
   "source": [
    "### 3.‘Int_rate’ column is character type. With the help of lambda function convert into float type."
   ]
  },
  {
   "cell_type": "code",
   "execution_count": null,
   "id": "9a83a330",
   "metadata": {},
   "outputs": [],
   "source": [
    "df['int_rate']=df['int_rate'].apply(lambda x: float(x.strip('%')))"
   ]
  },
  {
   "cell_type": "code",
   "execution_count": 11,
   "id": "433d9c2b",
   "metadata": {},
   "outputs": [
    {
     "data": {
      "text/html": [
       "<div>\n",
       "<style scoped>\n",
       "    .dataframe tbody tr th:only-of-type {\n",
       "        vertical-align: middle;\n",
       "    }\n",
       "\n",
       "    .dataframe tbody tr th {\n",
       "        vertical-align: top;\n",
       "    }\n",
       "\n",
       "    .dataframe thead th {\n",
       "        text-align: right;\n",
       "    }\n",
       "</style>\n",
       "<table border=\"1\" class=\"dataframe\">\n",
       "  <thead>\n",
       "    <tr style=\"text-align: right;\">\n",
       "      <th></th>\n",
       "      <th>id</th>\n",
       "      <th>member_id</th>\n",
       "      <th>loan_amnt</th>\n",
       "      <th>funded_amnt</th>\n",
       "      <th>funded_amnt_inv</th>\n",
       "      <th>term</th>\n",
       "      <th>int_rate</th>\n",
       "      <th>installment</th>\n",
       "      <th>grade</th>\n",
       "      <th>emp_length</th>\n",
       "      <th>...</th>\n",
       "      <th>purpose</th>\n",
       "      <th>dti</th>\n",
       "      <th>total_pymnt</th>\n",
       "      <th>total_pymnt_inv</th>\n",
       "      <th>total_rec_prncp</th>\n",
       "      <th>total_rec_int</th>\n",
       "      <th>last_pymnt_d</th>\n",
       "      <th>last_pymnt_amnt</th>\n",
       "      <th>Unnamed: 21</th>\n",
       "      <th>Unnamed: 22</th>\n",
       "    </tr>\n",
       "  </thead>\n",
       "  <tbody>\n",
       "    <tr>\n",
       "      <th>0</th>\n",
       "      <td>1077501</td>\n",
       "      <td>1296599</td>\n",
       "      <td>5000</td>\n",
       "      <td>5000</td>\n",
       "      <td>4975.0</td>\n",
       "      <td>36 months</td>\n",
       "      <td>10.65</td>\n",
       "      <td>162.87</td>\n",
       "      <td>B</td>\n",
       "      <td>10+ years</td>\n",
       "      <td>...</td>\n",
       "      <td>credit_card</td>\n",
       "      <td>27.65</td>\n",
       "      <td>5863.155187</td>\n",
       "      <td>5833.84</td>\n",
       "      <td>5000.00</td>\n",
       "      <td>863.16</td>\n",
       "      <td>Jan-15</td>\n",
       "      <td>171.62</td>\n",
       "      <td>NaN</td>\n",
       "      <td>NaN</td>\n",
       "    </tr>\n",
       "    <tr>\n",
       "      <th>1</th>\n",
       "      <td>1077430</td>\n",
       "      <td>1314167</td>\n",
       "      <td>2500</td>\n",
       "      <td>2500</td>\n",
       "      <td>2500.0</td>\n",
       "      <td>60 months</td>\n",
       "      <td>15.27</td>\n",
       "      <td>59.83</td>\n",
       "      <td>C</td>\n",
       "      <td>&lt; 1 year</td>\n",
       "      <td>...</td>\n",
       "      <td>car</td>\n",
       "      <td>1.00</td>\n",
       "      <td>1008.710000</td>\n",
       "      <td>1008.71</td>\n",
       "      <td>456.46</td>\n",
       "      <td>435.17</td>\n",
       "      <td>Apr-13</td>\n",
       "      <td>119.66</td>\n",
       "      <td>NaN</td>\n",
       "      <td>NaN</td>\n",
       "    </tr>\n",
       "    <tr>\n",
       "      <th>2</th>\n",
       "      <td>1077175</td>\n",
       "      <td>1313524</td>\n",
       "      <td>2400</td>\n",
       "      <td>2400</td>\n",
       "      <td>2400.0</td>\n",
       "      <td>36 months</td>\n",
       "      <td>15.96</td>\n",
       "      <td>84.33</td>\n",
       "      <td>C</td>\n",
       "      <td>10+ years</td>\n",
       "      <td>...</td>\n",
       "      <td>small_business</td>\n",
       "      <td>8.72</td>\n",
       "      <td>3005.666844</td>\n",
       "      <td>3005.67</td>\n",
       "      <td>2400.00</td>\n",
       "      <td>605.67</td>\n",
       "      <td>Jun-14</td>\n",
       "      <td>649.91</td>\n",
       "      <td>NaN</td>\n",
       "      <td>NaN</td>\n",
       "    </tr>\n",
       "    <tr>\n",
       "      <th>3</th>\n",
       "      <td>1076863</td>\n",
       "      <td>1277178</td>\n",
       "      <td>10000</td>\n",
       "      <td>10000</td>\n",
       "      <td>10000.0</td>\n",
       "      <td>36 months</td>\n",
       "      <td>13.49</td>\n",
       "      <td>339.31</td>\n",
       "      <td>C</td>\n",
       "      <td>10+ years</td>\n",
       "      <td>...</td>\n",
       "      <td>other</td>\n",
       "      <td>20.00</td>\n",
       "      <td>12231.890000</td>\n",
       "      <td>12231.89</td>\n",
       "      <td>10000.00</td>\n",
       "      <td>2214.92</td>\n",
       "      <td>Jan-15</td>\n",
       "      <td>357.48</td>\n",
       "      <td>NaN</td>\n",
       "      <td>NaN</td>\n",
       "    </tr>\n",
       "    <tr>\n",
       "      <th>4</th>\n",
       "      <td>1075358</td>\n",
       "      <td>1311748</td>\n",
       "      <td>3000</td>\n",
       "      <td>3000</td>\n",
       "      <td>3000.0</td>\n",
       "      <td>60 months</td>\n",
       "      <td>12.69</td>\n",
       "      <td>67.79</td>\n",
       "      <td>B</td>\n",
       "      <td>1 year</td>\n",
       "      <td>...</td>\n",
       "      <td>other</td>\n",
       "      <td>17.94</td>\n",
       "      <td>3513.330000</td>\n",
       "      <td>3513.33</td>\n",
       "      <td>2475.94</td>\n",
       "      <td>1037.39</td>\n",
       "      <td>May-16</td>\n",
       "      <td>67.79</td>\n",
       "      <td>NaN</td>\n",
       "      <td>NaN</td>\n",
       "    </tr>\n",
       "  </tbody>\n",
       "</table>\n",
       "<p>5 rows × 23 columns</p>\n",
       "</div>"
      ],
      "text/plain": [
       "        id  member_id  loan_amnt  funded_amnt  funded_amnt_inv        term  \\\n",
       "0  1077501    1296599       5000         5000           4975.0   36 months   \n",
       "1  1077430    1314167       2500         2500           2500.0   60 months   \n",
       "2  1077175    1313524       2400         2400           2400.0   36 months   \n",
       "3  1076863    1277178      10000        10000          10000.0   36 months   \n",
       "4  1075358    1311748       3000         3000           3000.0   60 months   \n",
       "\n",
       "   int_rate  installment grade emp_length  ...         purpose    dti  \\\n",
       "0     10.65       162.87     B  10+ years  ...     credit_card  27.65   \n",
       "1     15.27        59.83     C   < 1 year  ...             car   1.00   \n",
       "2     15.96        84.33     C  10+ years  ...  small_business   8.72   \n",
       "3     13.49       339.31     C  10+ years  ...           other  20.00   \n",
       "4     12.69        67.79     B     1 year  ...           other  17.94   \n",
       "\n",
       "    total_pymnt total_pymnt_inv  total_rec_prncp  total_rec_int  last_pymnt_d  \\\n",
       "0   5863.155187         5833.84          5000.00         863.16        Jan-15   \n",
       "1   1008.710000         1008.71           456.46         435.17        Apr-13   \n",
       "2   3005.666844         3005.67          2400.00         605.67        Jun-14   \n",
       "3  12231.890000        12231.89         10000.00        2214.92        Jan-15   \n",
       "4   3513.330000         3513.33          2475.94        1037.39        May-16   \n",
       "\n",
       "   last_pymnt_amnt  Unnamed: 21 Unnamed: 22  \n",
       "0           171.62          NaN         NaN  \n",
       "1           119.66          NaN         NaN  \n",
       "2           649.91          NaN         NaN  \n",
       "3           357.48          NaN         NaN  \n",
       "4            67.79          NaN         NaN  \n",
       "\n",
       "[5 rows x 23 columns]"
      ]
     },
     "execution_count": 11,
     "metadata": {},
     "output_type": "execute_result"
    }
   ],
   "source": [
    "df.head()"
   ]
  },
  {
   "cell_type": "markdown",
   "id": "995e520e",
   "metadata": {},
   "source": [
    "### 4. Check the datatype of each column."
   ]
  },
  {
   "cell_type": "code",
   "execution_count": 25,
   "id": "2fddbbd9",
   "metadata": {},
   "outputs": [
    {
     "name": "stdout",
     "output_type": "stream",
     "text": [
      "Data Type of all columns is as follows:\n"
     ]
    },
    {
     "data": {
      "text/plain": [
       "id                       int64\n",
       "member_id                int64\n",
       "loan_amnt                int64\n",
       "funded_amnt              int64\n",
       "funded_amnt_inv        float64\n",
       "term                    object\n",
       "int_rate               float64\n",
       "installment            float64\n",
       "grade                   object\n",
       "emp_length              object\n",
       "annual_inc             float64\n",
       "verification_status     object\n",
       "loan_status             object\n",
       "purpose                 object\n",
       "dti                    float64\n",
       "total_pymnt            float64\n",
       "total_pymnt_inv        float64\n",
       "total_rec_prncp        float64\n",
       "total_rec_int          float64\n",
       "last_pymnt_d            object\n",
       "last_pymnt_amnt        float64\n",
       "dtype: object"
      ]
     },
     "execution_count": 25,
     "metadata": {},
     "output_type": "execute_result"
    }
   ],
   "source": [
    "print(\"Data Type of all columns is as follows:\")\n",
    "df.dtypes"
   ]
  },
  {
   "cell_type": "markdown",
   "id": "0fe02765",
   "metadata": {},
   "source": [
    "### 5. Cleaning the dataset- Remove the columns having complete NaN value in the entire dataset."
   ]
  },
  {
   "cell_type": "code",
   "execution_count": 8,
   "id": "7ace5c16",
   "metadata": {
    "scrolled": true
   },
   "outputs": [
    {
     "name": "stdout",
     "output_type": "stream",
     "text": [
      "Here last 2 columns of original dataset Unnamed: 21 and Unnamed:22 \n",
      "are deleted as they contained null values.\n"
     ]
    }
   ],
   "source": [
    "df=df.dropna(axis=1,how='all')\n",
    "print('''Here last 2 columns of original dataset Unnamed: 21 and Unnamed:22 \n",
    "are deleted as they contained null values.''')"
   ]
  },
  {
   "cell_type": "code",
   "execution_count": 24,
   "id": "1201a26c",
   "metadata": {},
   "outputs": [
    {
     "data": {
      "text/html": [
       "<div>\n",
       "<style scoped>\n",
       "    .dataframe tbody tr th:only-of-type {\n",
       "        vertical-align: middle;\n",
       "    }\n",
       "\n",
       "    .dataframe tbody tr th {\n",
       "        vertical-align: top;\n",
       "    }\n",
       "\n",
       "    .dataframe thead th {\n",
       "        text-align: right;\n",
       "    }\n",
       "</style>\n",
       "<table border=\"1\" class=\"dataframe\">\n",
       "  <thead>\n",
       "    <tr style=\"text-align: right;\">\n",
       "      <th></th>\n",
       "      <th>id</th>\n",
       "      <th>member_id</th>\n",
       "      <th>loan_amnt</th>\n",
       "      <th>funded_amnt</th>\n",
       "      <th>funded_amnt_inv</th>\n",
       "      <th>term</th>\n",
       "      <th>int_rate</th>\n",
       "      <th>installment</th>\n",
       "      <th>grade</th>\n",
       "      <th>emp_length</th>\n",
       "      <th>...</th>\n",
       "      <th>verification_status</th>\n",
       "      <th>loan_status</th>\n",
       "      <th>purpose</th>\n",
       "      <th>dti</th>\n",
       "      <th>total_pymnt</th>\n",
       "      <th>total_pymnt_inv</th>\n",
       "      <th>total_rec_prncp</th>\n",
       "      <th>total_rec_int</th>\n",
       "      <th>last_pymnt_d</th>\n",
       "      <th>last_pymnt_amnt</th>\n",
       "    </tr>\n",
       "  </thead>\n",
       "  <tbody>\n",
       "    <tr>\n",
       "      <th>0</th>\n",
       "      <td>1077501</td>\n",
       "      <td>1296599</td>\n",
       "      <td>5000</td>\n",
       "      <td>5000</td>\n",
       "      <td>4975.0</td>\n",
       "      <td>36 months</td>\n",
       "      <td>10.65</td>\n",
       "      <td>162.87</td>\n",
       "      <td>B</td>\n",
       "      <td>10+ years</td>\n",
       "      <td>...</td>\n",
       "      <td>Verified</td>\n",
       "      <td>Fully Paid</td>\n",
       "      <td>credit_card</td>\n",
       "      <td>27.65</td>\n",
       "      <td>5863.155187</td>\n",
       "      <td>5833.84</td>\n",
       "      <td>5000.00</td>\n",
       "      <td>863.16</td>\n",
       "      <td>Jan-15</td>\n",
       "      <td>171.62</td>\n",
       "    </tr>\n",
       "    <tr>\n",
       "      <th>1</th>\n",
       "      <td>1077430</td>\n",
       "      <td>1314167</td>\n",
       "      <td>2500</td>\n",
       "      <td>2500</td>\n",
       "      <td>2500.0</td>\n",
       "      <td>60 months</td>\n",
       "      <td>15.27</td>\n",
       "      <td>59.83</td>\n",
       "      <td>C</td>\n",
       "      <td>&lt; 1 year</td>\n",
       "      <td>...</td>\n",
       "      <td>Source Verified</td>\n",
       "      <td>Charged Off</td>\n",
       "      <td>car</td>\n",
       "      <td>1.00</td>\n",
       "      <td>1008.710000</td>\n",
       "      <td>1008.71</td>\n",
       "      <td>456.46</td>\n",
       "      <td>435.17</td>\n",
       "      <td>Apr-13</td>\n",
       "      <td>119.66</td>\n",
       "    </tr>\n",
       "  </tbody>\n",
       "</table>\n",
       "<p>2 rows × 21 columns</p>\n",
       "</div>"
      ],
      "text/plain": [
       "        id  member_id  loan_amnt  funded_amnt  funded_amnt_inv        term  \\\n",
       "0  1077501    1296599       5000         5000           4975.0   36 months   \n",
       "1  1077430    1314167       2500         2500           2500.0   60 months   \n",
       "\n",
       "   int_rate  installment grade emp_length  ...  verification_status  \\\n",
       "0     10.65       162.87     B  10+ years  ...             Verified   \n",
       "1     15.27        59.83     C   < 1 year  ...      Source Verified   \n",
       "\n",
       "   loan_status      purpose    dti  total_pymnt  total_pymnt_inv  \\\n",
       "0   Fully Paid  credit_card  27.65  5863.155187          5833.84   \n",
       "1  Charged Off          car   1.00  1008.710000          1008.71   \n",
       "\n",
       "   total_rec_prncp  total_rec_int  last_pymnt_d last_pymnt_amnt  \n",
       "0          5000.00         863.16        Jan-15          171.62  \n",
       "1           456.46         435.17        Apr-13          119.66  \n",
       "\n",
       "[2 rows x 21 columns]"
      ]
     },
     "execution_count": 24,
     "metadata": {},
     "output_type": "execute_result"
    }
   ],
   "source": [
    "df.head(2)"
   ]
  },
  {
   "cell_type": "markdown",
   "id": "8e2fa2f1",
   "metadata": {},
   "source": [
    "### 6. Write the code to find the value counts of the ‘loan_status’ category column and filter only the ‘fully paid’ and ‘charged off’ categories."
   ]
  },
  {
   "cell_type": "code",
   "execution_count": 21,
   "id": "a8409d3c",
   "metadata": {
    "scrolled": true
   },
   "outputs": [
    {
     "name": "stdout",
     "output_type": "stream",
     "text": [
      "Value_counts is:\n"
     ]
    },
    {
     "data": {
      "text/plain": [
       "Fully Paid     32950\n",
       "Charged Off     5627\n",
       "Current         1140\n",
       "Name: loan_status, dtype: int64"
      ]
     },
     "execution_count": 21,
     "metadata": {},
     "output_type": "execute_result"
    }
   ],
   "source": [
    "print('Value_counts is:')\n",
    "df['loan_status'].value_counts()"
   ]
  },
  {
   "cell_type": "code",
   "execution_count": 5,
   "id": "f950dd82",
   "metadata": {
    "scrolled": true
   },
   "outputs": [
    {
     "name": "stdout",
     "output_type": "stream",
     "text": [
      "Filtered Loan Staus for Fully Paid and Charged off categories is as follows :\n"
     ]
    },
    {
     "data": {
      "text/plain": [
       "Fully Paid     32950\n",
       "Charged Off     5627\n",
       "Name: loan_status, dtype: int64"
      ]
     },
     "execution_count": 5,
     "metadata": {},
     "output_type": "execute_result"
    }
   ],
   "source": [
    "print('Filtered Loan Staus for Fully Paid and Charged off categories is as follows :')\n",
    "df_loanstatus=df[(df['loan_status']=='Fully Paid') | (df['loan_status']=='Charged Off')]\n",
    "df_loanstatus['loan_status'].value_counts()"
   ]
  },
  {
   "cell_type": "code",
   "execution_count": 10,
   "id": "51a7cd98",
   "metadata": {},
   "outputs": [
    {
     "data": {
      "text/html": [
       "<div>\n",
       "<style scoped>\n",
       "    .dataframe tbody tr th:only-of-type {\n",
       "        vertical-align: middle;\n",
       "    }\n",
       "\n",
       "    .dataframe tbody tr th {\n",
       "        vertical-align: top;\n",
       "    }\n",
       "\n",
       "    .dataframe thead th {\n",
       "        text-align: right;\n",
       "    }\n",
       "</style>\n",
       "<table border=\"1\" class=\"dataframe\">\n",
       "  <thead>\n",
       "    <tr style=\"text-align: right;\">\n",
       "      <th></th>\n",
       "      <th>id</th>\n",
       "      <th>member_id</th>\n",
       "      <th>loan_amnt</th>\n",
       "      <th>funded_amnt</th>\n",
       "      <th>funded_amnt_inv</th>\n",
       "      <th>term</th>\n",
       "      <th>int_rate</th>\n",
       "      <th>installment</th>\n",
       "      <th>grade</th>\n",
       "      <th>emp_length</th>\n",
       "      <th>...</th>\n",
       "      <th>purpose</th>\n",
       "      <th>dti</th>\n",
       "      <th>total_pymnt</th>\n",
       "      <th>total_pymnt_inv</th>\n",
       "      <th>total_rec_prncp</th>\n",
       "      <th>total_rec_int</th>\n",
       "      <th>last_pymnt_d</th>\n",
       "      <th>last_pymnt_amnt</th>\n",
       "      <th>Unnamed: 21</th>\n",
       "      <th>Unnamed: 22</th>\n",
       "    </tr>\n",
       "  </thead>\n",
       "  <tbody>\n",
       "    <tr>\n",
       "      <th>0</th>\n",
       "      <td>1077501</td>\n",
       "      <td>1296599</td>\n",
       "      <td>5000</td>\n",
       "      <td>5000</td>\n",
       "      <td>4975.0</td>\n",
       "      <td>36 months</td>\n",
       "      <td>10.65%</td>\n",
       "      <td>162.87</td>\n",
       "      <td>B</td>\n",
       "      <td>10+ years</td>\n",
       "      <td>...</td>\n",
       "      <td>credit_card</td>\n",
       "      <td>27.65</td>\n",
       "      <td>5863.155187</td>\n",
       "      <td>5833.84</td>\n",
       "      <td>5000.00</td>\n",
       "      <td>863.16</td>\n",
       "      <td>Jan-15</td>\n",
       "      <td>171.62</td>\n",
       "      <td>NaN</td>\n",
       "      <td>NaN</td>\n",
       "    </tr>\n",
       "    <tr>\n",
       "      <th>1</th>\n",
       "      <td>1077430</td>\n",
       "      <td>1314167</td>\n",
       "      <td>2500</td>\n",
       "      <td>2500</td>\n",
       "      <td>2500.0</td>\n",
       "      <td>60 months</td>\n",
       "      <td>15.27%</td>\n",
       "      <td>59.83</td>\n",
       "      <td>C</td>\n",
       "      <td>&lt; 1 year</td>\n",
       "      <td>...</td>\n",
       "      <td>car</td>\n",
       "      <td>1.00</td>\n",
       "      <td>1008.710000</td>\n",
       "      <td>1008.71</td>\n",
       "      <td>456.46</td>\n",
       "      <td>435.17</td>\n",
       "      <td>Apr-13</td>\n",
       "      <td>119.66</td>\n",
       "      <td>NaN</td>\n",
       "      <td>NaN</td>\n",
       "    </tr>\n",
       "    <tr>\n",
       "      <th>2</th>\n",
       "      <td>1077175</td>\n",
       "      <td>1313524</td>\n",
       "      <td>2400</td>\n",
       "      <td>2400</td>\n",
       "      <td>2400.0</td>\n",
       "      <td>36 months</td>\n",
       "      <td>15.96%</td>\n",
       "      <td>84.33</td>\n",
       "      <td>C</td>\n",
       "      <td>10+ years</td>\n",
       "      <td>...</td>\n",
       "      <td>small_business</td>\n",
       "      <td>8.72</td>\n",
       "      <td>3005.666844</td>\n",
       "      <td>3005.67</td>\n",
       "      <td>2400.00</td>\n",
       "      <td>605.67</td>\n",
       "      <td>Jun-14</td>\n",
       "      <td>649.91</td>\n",
       "      <td>NaN</td>\n",
       "      <td>NaN</td>\n",
       "    </tr>\n",
       "    <tr>\n",
       "      <th>3</th>\n",
       "      <td>1076863</td>\n",
       "      <td>1277178</td>\n",
       "      <td>10000</td>\n",
       "      <td>10000</td>\n",
       "      <td>10000.0</td>\n",
       "      <td>36 months</td>\n",
       "      <td>13.49%</td>\n",
       "      <td>339.31</td>\n",
       "      <td>C</td>\n",
       "      <td>10+ years</td>\n",
       "      <td>...</td>\n",
       "      <td>other</td>\n",
       "      <td>20.00</td>\n",
       "      <td>12231.890000</td>\n",
       "      <td>12231.89</td>\n",
       "      <td>10000.00</td>\n",
       "      <td>2214.92</td>\n",
       "      <td>Jan-15</td>\n",
       "      <td>357.48</td>\n",
       "      <td>NaN</td>\n",
       "      <td>NaN</td>\n",
       "    </tr>\n",
       "    <tr>\n",
       "      <th>4</th>\n",
       "      <td>1075358</td>\n",
       "      <td>1311748</td>\n",
       "      <td>3000</td>\n",
       "      <td>3000</td>\n",
       "      <td>3000.0</td>\n",
       "      <td>60 months</td>\n",
       "      <td>12.69%</td>\n",
       "      <td>67.79</td>\n",
       "      <td>B</td>\n",
       "      <td>1 year</td>\n",
       "      <td>...</td>\n",
       "      <td>other</td>\n",
       "      <td>17.94</td>\n",
       "      <td>3513.330000</td>\n",
       "      <td>3513.33</td>\n",
       "      <td>2475.94</td>\n",
       "      <td>1037.39</td>\n",
       "      <td>May-16</td>\n",
       "      <td>67.79</td>\n",
       "      <td>NaN</td>\n",
       "      <td>NaN</td>\n",
       "    </tr>\n",
       "    <tr>\n",
       "      <th>...</th>\n",
       "      <td>...</td>\n",
       "      <td>...</td>\n",
       "      <td>...</td>\n",
       "      <td>...</td>\n",
       "      <td>...</td>\n",
       "      <td>...</td>\n",
       "      <td>...</td>\n",
       "      <td>...</td>\n",
       "      <td>...</td>\n",
       "      <td>...</td>\n",
       "      <td>...</td>\n",
       "      <td>...</td>\n",
       "      <td>...</td>\n",
       "      <td>...</td>\n",
       "      <td>...</td>\n",
       "      <td>...</td>\n",
       "      <td>...</td>\n",
       "      <td>...</td>\n",
       "      <td>...</td>\n",
       "      <td>...</td>\n",
       "      <td>...</td>\n",
       "    </tr>\n",
       "    <tr>\n",
       "      <th>39712</th>\n",
       "      <td>92187</td>\n",
       "      <td>92174</td>\n",
       "      <td>2500</td>\n",
       "      <td>2500</td>\n",
       "      <td>1075.0</td>\n",
       "      <td>36 months</td>\n",
       "      <td>8.07%</td>\n",
       "      <td>78.42</td>\n",
       "      <td>A</td>\n",
       "      <td>4 years</td>\n",
       "      <td>...</td>\n",
       "      <td>home_improvement</td>\n",
       "      <td>11.33</td>\n",
       "      <td>2822.969293</td>\n",
       "      <td>1213.88</td>\n",
       "      <td>2500.00</td>\n",
       "      <td>322.97</td>\n",
       "      <td>Jul-10</td>\n",
       "      <td>80.90</td>\n",
       "      <td>NaN</td>\n",
       "      <td>NaN</td>\n",
       "    </tr>\n",
       "    <tr>\n",
       "      <th>39713</th>\n",
       "      <td>90665</td>\n",
       "      <td>90607</td>\n",
       "      <td>8500</td>\n",
       "      <td>8500</td>\n",
       "      <td>875.0</td>\n",
       "      <td>36 months</td>\n",
       "      <td>10.28%</td>\n",
       "      <td>275.38</td>\n",
       "      <td>C</td>\n",
       "      <td>3 years</td>\n",
       "      <td>...</td>\n",
       "      <td>credit_card</td>\n",
       "      <td>6.40</td>\n",
       "      <td>9913.491822</td>\n",
       "      <td>1020.51</td>\n",
       "      <td>8500.00</td>\n",
       "      <td>1413.49</td>\n",
       "      <td>Jul-10</td>\n",
       "      <td>281.94</td>\n",
       "      <td>NaN</td>\n",
       "      <td>NaN</td>\n",
       "    </tr>\n",
       "    <tr>\n",
       "      <th>39714</th>\n",
       "      <td>90395</td>\n",
       "      <td>90390</td>\n",
       "      <td>5000</td>\n",
       "      <td>5000</td>\n",
       "      <td>1325.0</td>\n",
       "      <td>36 months</td>\n",
       "      <td>8.07%</td>\n",
       "      <td>156.84</td>\n",
       "      <td>A</td>\n",
       "      <td>&lt; 1 year</td>\n",
       "      <td>...</td>\n",
       "      <td>debt_consolidation</td>\n",
       "      <td>2.30</td>\n",
       "      <td>5272.161128</td>\n",
       "      <td>1397.12</td>\n",
       "      <td>5000.00</td>\n",
       "      <td>272.16</td>\n",
       "      <td>Apr-08</td>\n",
       "      <td>0.00</td>\n",
       "      <td>NaN</td>\n",
       "      <td>NaN</td>\n",
       "    </tr>\n",
       "    <tr>\n",
       "      <th>39715</th>\n",
       "      <td>90376</td>\n",
       "      <td>89243</td>\n",
       "      <td>5000</td>\n",
       "      <td>5000</td>\n",
       "      <td>650.0</td>\n",
       "      <td>36 months</td>\n",
       "      <td>7.43%</td>\n",
       "      <td>155.38</td>\n",
       "      <td>A</td>\n",
       "      <td>&lt; 1 year</td>\n",
       "      <td>...</td>\n",
       "      <td>other</td>\n",
       "      <td>3.72</td>\n",
       "      <td>5174.198551</td>\n",
       "      <td>672.66</td>\n",
       "      <td>5000.00</td>\n",
       "      <td>174.20</td>\n",
       "      <td>Jan-08</td>\n",
       "      <td>0.00</td>\n",
       "      <td>NaN</td>\n",
       "      <td>NaN</td>\n",
       "    </tr>\n",
       "    <tr>\n",
       "      <th>39716</th>\n",
       "      <td>87023</td>\n",
       "      <td>86999</td>\n",
       "      <td>7500</td>\n",
       "      <td>7500</td>\n",
       "      <td>800.0</td>\n",
       "      <td>36 months</td>\n",
       "      <td>13.75%</td>\n",
       "      <td>255.43</td>\n",
       "      <td>E</td>\n",
       "      <td>&lt; 1 year</td>\n",
       "      <td>...</td>\n",
       "      <td>debt_consolidation</td>\n",
       "      <td>14.29</td>\n",
       "      <td>9195.263334</td>\n",
       "      <td>980.83</td>\n",
       "      <td>7500.00</td>\n",
       "      <td>1695.26</td>\n",
       "      <td>Jun-10</td>\n",
       "      <td>256.59</td>\n",
       "      <td>NaN</td>\n",
       "      <td>NaN</td>\n",
       "    </tr>\n",
       "  </tbody>\n",
       "</table>\n",
       "<p>39717 rows × 23 columns</p>\n",
       "</div>"
      ],
      "text/plain": [
       "            id  member_id  loan_amnt  funded_amnt  funded_amnt_inv  \\\n",
       "0      1077501    1296599       5000         5000           4975.0   \n",
       "1      1077430    1314167       2500         2500           2500.0   \n",
       "2      1077175    1313524       2400         2400           2400.0   \n",
       "3      1076863    1277178      10000        10000          10000.0   \n",
       "4      1075358    1311748       3000         3000           3000.0   \n",
       "...        ...        ...        ...          ...              ...   \n",
       "39712    92187      92174       2500         2500           1075.0   \n",
       "39713    90665      90607       8500         8500            875.0   \n",
       "39714    90395      90390       5000         5000           1325.0   \n",
       "39715    90376      89243       5000         5000            650.0   \n",
       "39716    87023      86999       7500         7500            800.0   \n",
       "\n",
       "             term int_rate  installment grade emp_length  ...  \\\n",
       "0       36 months   10.65%       162.87     B  10+ years  ...   \n",
       "1       60 months   15.27%        59.83     C   < 1 year  ...   \n",
       "2       36 months   15.96%        84.33     C  10+ years  ...   \n",
       "3       36 months   13.49%       339.31     C  10+ years  ...   \n",
       "4       60 months   12.69%        67.79     B     1 year  ...   \n",
       "...           ...      ...          ...   ...        ...  ...   \n",
       "39712   36 months    8.07%        78.42     A    4 years  ...   \n",
       "39713   36 months   10.28%       275.38     C    3 years  ...   \n",
       "39714   36 months    8.07%       156.84     A   < 1 year  ...   \n",
       "39715   36 months    7.43%       155.38     A   < 1 year  ...   \n",
       "39716   36 months   13.75%       255.43     E   < 1 year  ...   \n",
       "\n",
       "                  purpose    dti   total_pymnt total_pymnt_inv  \\\n",
       "0             credit_card  27.65   5863.155187         5833.84   \n",
       "1                     car   1.00   1008.710000         1008.71   \n",
       "2          small_business   8.72   3005.666844         3005.67   \n",
       "3                   other  20.00  12231.890000        12231.89   \n",
       "4                   other  17.94   3513.330000         3513.33   \n",
       "...                   ...    ...           ...             ...   \n",
       "39712    home_improvement  11.33   2822.969293         1213.88   \n",
       "39713         credit_card   6.40   9913.491822         1020.51   \n",
       "39714  debt_consolidation   2.30   5272.161128         1397.12   \n",
       "39715               other   3.72   5174.198551          672.66   \n",
       "39716  debt_consolidation  14.29   9195.263334          980.83   \n",
       "\n",
       "       total_rec_prncp  total_rec_int  last_pymnt_d  last_pymnt_amnt  \\\n",
       "0              5000.00         863.16        Jan-15           171.62   \n",
       "1               456.46         435.17        Apr-13           119.66   \n",
       "2              2400.00         605.67        Jun-14           649.91   \n",
       "3             10000.00        2214.92        Jan-15           357.48   \n",
       "4              2475.94        1037.39        May-16            67.79   \n",
       "...                ...            ...           ...              ...   \n",
       "39712          2500.00         322.97        Jul-10            80.90   \n",
       "39713          8500.00        1413.49        Jul-10           281.94   \n",
       "39714          5000.00         272.16        Apr-08             0.00   \n",
       "39715          5000.00         174.20        Jan-08             0.00   \n",
       "39716          7500.00        1695.26        Jun-10           256.59   \n",
       "\n",
       "       Unnamed: 21 Unnamed: 22  \n",
       "0              NaN         NaN  \n",
       "1              NaN         NaN  \n",
       "2              NaN         NaN  \n",
       "3              NaN         NaN  \n",
       "4              NaN         NaN  \n",
       "...            ...         ...  \n",
       "39712          NaN         NaN  \n",
       "39713          NaN         NaN  \n",
       "39714          NaN         NaN  \n",
       "39715          NaN         NaN  \n",
       "39716          NaN         NaN  \n",
       "\n",
       "[39717 rows x 23 columns]"
      ]
     },
     "execution_count": 10,
     "metadata": {},
     "output_type": "execute_result"
    }
   ],
   "source": [
    "df[df['loan_status']!='current']"
   ]
  },
  {
   "cell_type": "markdown",
   "id": "b50edd4e",
   "metadata": {},
   "source": [
    "### 7. Filter the ‘Emp_Len’ column to extract the numerical value from the string. Hint - Emp_len : < 1year, 2 years , 3 years as 1 , 2, 3 so on."
   ]
  },
  {
   "cell_type": "code",
   "execution_count": 5,
   "id": "e3959e85",
   "metadata": {
    "scrolled": true
   },
   "outputs": [
    {
     "data": {
      "text/plain": [
       "0        10.0\n",
       "1         1.0\n",
       "2        10.0\n",
       "3        10.0\n",
       "4         1.0\n",
       "         ... \n",
       "39712     4.0\n",
       "39713     3.0\n",
       "39714     1.0\n",
       "39715     1.0\n",
       "39716     1.0\n",
       "Name: emp_length, Length: 39717, dtype: float64"
      ]
     },
     "execution_count": 5,
     "metadata": {},
     "output_type": "execute_result"
    }
   ],
   "source": [
    "df=pd.read_csv('loan.csv')\n",
    "df.head(5)\n",
    "df['emp_length'] = df['emp_length'].apply(lambda x: int(''.join(filter(str.isdigit, str(x)))) \n",
    "                                          if pd.notnull(x) else np.nan)\n",
    "df['emp_length']"
   ]
  },
  {
   "cell_type": "markdown",
   "id": "2fba1d89",
   "metadata": {},
   "source": [
    "### 8.Using the Lambda function, remove the month from the ‘term’ column such that ‘36 months’, ‘60 months’ appear as 36 and 60 respectively."
   ]
  },
  {
   "cell_type": "code",
   "execution_count": 40,
   "id": "c3b15bdd",
   "metadata": {
    "scrolled": true
   },
   "outputs": [
    {
     "data": {
      "text/plain": [
       "0     36 months\n",
       "1     60 months\n",
       "Name: term, dtype: object"
      ]
     },
     "execution_count": 40,
     "metadata": {},
     "output_type": "execute_result"
    }
   ],
   "source": [
    "df['term'].head(2)"
   ]
  },
  {
   "cell_type": "code",
   "execution_count": 41,
   "id": "abd4b401",
   "metadata": {},
   "outputs": [
    {
     "data": {
      "text/plain": [
       "0        36\n",
       "1        60\n",
       "2        36\n",
       "3        36\n",
       "4        60\n",
       "         ..\n",
       "39712    36\n",
       "39713    36\n",
       "39714    36\n",
       "39715    36\n",
       "39716    36\n",
       "Name: term, Length: 39717, dtype: int64"
      ]
     },
     "execution_count": 41,
     "metadata": {},
     "output_type": "execute_result"
    }
   ],
   "source": [
    "df['term']=df['term'].apply(lambda x: int(''.join(filter(str.isdigit, str(x)))))\n",
    "df['term']"
   ]
  },
  {
   "cell_type": "code",
   "execution_count": null,
   "id": "60462197",
   "metadata": {},
   "outputs": [],
   "source": [
    "# We can also use formula\n",
    "# df['term']=df['term'].apply(lambda x: x.replace('months',''))"
   ]
  },
  {
   "cell_type": "markdown",
   "id": "dad29593",
   "metadata": {},
   "source": [
    "### 9.Create a new column as risky_loan_applicant by comparing loan_amnt and funded_amnt with the following criteria -If loan_amnt is less than equals to funded_amnt set it as ‘0’ else set it as‘1’."
   ]
  },
  {
   "cell_type": "code",
   "execution_count": 11,
   "id": "3fd2f1ff",
   "metadata": {
    "scrolled": true
   },
   "outputs": [
    {
     "data": {
      "text/plain": [
       "0        0\n",
       "1        0\n",
       "2        0\n",
       "3        0\n",
       "4        0\n",
       "        ..\n",
       "39712    0\n",
       "39713    0\n",
       "39714    0\n",
       "39715    0\n",
       "39716    0\n",
       "Name: risky_loan_applicant, Length: 39717, dtype: int64"
      ]
     },
     "execution_count": 11,
     "metadata": {},
     "output_type": "execute_result"
    }
   ],
   "source": [
    "df[['loan_amnt','funded_amnt']]\n",
    "df['risky_loan_applicant']=df.apply(lambda x: 1 if x['loan_amnt']>x['funded_amnt'] else 0, axis=1)\n",
    "df['risky_loan_applicant']"
   ]
  },
  {
   "cell_type": "code",
   "execution_count": 54,
   "id": "0ac7f785",
   "metadata": {},
   "outputs": [
    {
     "data": {
      "text/html": [
       "<div>\n",
       "<style scoped>\n",
       "    .dataframe tbody tr th:only-of-type {\n",
       "        vertical-align: middle;\n",
       "    }\n",
       "\n",
       "    .dataframe tbody tr th {\n",
       "        vertical-align: top;\n",
       "    }\n",
       "\n",
       "    .dataframe thead th {\n",
       "        text-align: right;\n",
       "    }\n",
       "</style>\n",
       "<table border=\"1\" class=\"dataframe\">\n",
       "  <thead>\n",
       "    <tr style=\"text-align: right;\">\n",
       "      <th></th>\n",
       "      <th>id</th>\n",
       "      <th>member_id</th>\n",
       "      <th>loan_amnt</th>\n",
       "      <th>funded_amnt</th>\n",
       "      <th>funded_amnt_inv</th>\n",
       "      <th>term</th>\n",
       "      <th>int_rate</th>\n",
       "      <th>installment</th>\n",
       "      <th>grade</th>\n",
       "      <th>emp_length</th>\n",
       "      <th>...</th>\n",
       "      <th>dti</th>\n",
       "      <th>total_pymnt</th>\n",
       "      <th>total_pymnt_inv</th>\n",
       "      <th>total_rec_prncp</th>\n",
       "      <th>total_rec_int</th>\n",
       "      <th>last_pymnt_d</th>\n",
       "      <th>last_pymnt_amnt</th>\n",
       "      <th>Unnamed: 21</th>\n",
       "      <th>Unnamed: 22</th>\n",
       "      <th>risky_loan_applicant</th>\n",
       "    </tr>\n",
       "  </thead>\n",
       "  <tbody>\n",
       "    <tr>\n",
       "      <th>0</th>\n",
       "      <td>1077501</td>\n",
       "      <td>1296599</td>\n",
       "      <td>5000</td>\n",
       "      <td>5000</td>\n",
       "      <td>4975.0</td>\n",
       "      <td>36</td>\n",
       "      <td>10.65%</td>\n",
       "      <td>162.87</td>\n",
       "      <td>B</td>\n",
       "      <td>10.0</td>\n",
       "      <td>...</td>\n",
       "      <td>27.65</td>\n",
       "      <td>5863.155187</td>\n",
       "      <td>5833.84</td>\n",
       "      <td>5000.00</td>\n",
       "      <td>863.16</td>\n",
       "      <td>Jan-15</td>\n",
       "      <td>171.62</td>\n",
       "      <td>NaN</td>\n",
       "      <td>NaN</td>\n",
       "      <td>0</td>\n",
       "    </tr>\n",
       "    <tr>\n",
       "      <th>1</th>\n",
       "      <td>1077430</td>\n",
       "      <td>1314167</td>\n",
       "      <td>2500</td>\n",
       "      <td>2500</td>\n",
       "      <td>2500.0</td>\n",
       "      <td>60</td>\n",
       "      <td>15.27%</td>\n",
       "      <td>59.83</td>\n",
       "      <td>C</td>\n",
       "      <td>1.0</td>\n",
       "      <td>...</td>\n",
       "      <td>1.00</td>\n",
       "      <td>1008.710000</td>\n",
       "      <td>1008.71</td>\n",
       "      <td>456.46</td>\n",
       "      <td>435.17</td>\n",
       "      <td>Apr-13</td>\n",
       "      <td>119.66</td>\n",
       "      <td>NaN</td>\n",
       "      <td>NaN</td>\n",
       "      <td>0</td>\n",
       "    </tr>\n",
       "  </tbody>\n",
       "</table>\n",
       "<p>2 rows × 24 columns</p>\n",
       "</div>"
      ],
      "text/plain": [
       "        id  member_id  loan_amnt  funded_amnt  funded_amnt_inv  term int_rate  \\\n",
       "0  1077501    1296599       5000         5000           4975.0    36   10.65%   \n",
       "1  1077430    1314167       2500         2500           2500.0    60   15.27%   \n",
       "\n",
       "   installment grade  emp_length  ...    dti  total_pymnt total_pymnt_inv  \\\n",
       "0       162.87     B        10.0  ...  27.65  5863.155187         5833.84   \n",
       "1        59.83     C         1.0  ...   1.00  1008.710000         1008.71   \n",
       "\n",
       "  total_rec_prncp  total_rec_int  last_pymnt_d  last_pymnt_amnt  Unnamed: 21  \\\n",
       "0         5000.00         863.16        Jan-15           171.62          NaN   \n",
       "1          456.46         435.17        Apr-13           119.66          NaN   \n",
       "\n",
       "   Unnamed: 22 risky_loan_applicant  \n",
       "0          NaN                    0  \n",
       "1          NaN                    0  \n",
       "\n",
       "[2 rows x 24 columns]"
      ]
     },
     "execution_count": 54,
     "metadata": {},
     "output_type": "execute_result"
    }
   ],
   "source": [
    "df.head(2)"
   ]
  },
  {
   "cell_type": "markdown",
   "id": "dcc10362",
   "metadata": {},
   "source": [
    "### 10. Using the bar plot visualize the loan_status column against categorical column grade, term, verification_status . Write the observation from each graph."
   ]
  },
  {
   "cell_type": "code",
   "execution_count": 10,
   "id": "ca40a019",
   "metadata": {
    "scrolled": false
   },
   "outputs": [
    {
     "name": "stdout",
     "output_type": "stream",
     "text": [
      "term          36 months   60 months\n",
      "loan_status                        \n",
      "Charged Off        3227        2400\n",
      "Current               0        1140\n",
      "Fully Paid        25869        7081\n"
     ]
    },
    {
     "data": {
      "image/png": "[encoded data removed]",
      "text/plain": [
       "<Figure size 640x480 with 1 Axes>"
      ]
     },
     "metadata": {},
     "output_type": "display_data"
    }
   ],
   "source": [
    "loanterm=pd.crosstab(df['loan_status'],df['term'])\n",
    "print(loanterm)\n",
    "loanterm.plot(kind='bar')\n",
    "plt.title('Loan_status vs Term')\n",
    "plt.show()"
   ]
  },
  {
   "cell_type": "markdown",
   "id": "0cd19b86",
   "metadata": {},
   "source": [
    "## Graph Interpretation: \n",
    "#### 1.The x-axis (horizontal axis) represents the loan status categories: \"Charged Off,\" \"Current,\" and \"Fully Paid.\"\n",
    "#### 2.The y-axis (vertical axis) represents the count of loans in each category.\n",
    "#### 3. \"Charged Off\" loans are higher in number for the 36-month term compared to the 60-month term, indicating potentially higher risk in the shorter-term loans.\n",
    "#### 4. There are no \"Current\" loans in the 36-month category, while 60-month loans still have borrowers in the repayment phase.\n",
    "#### 5. \"Fully Paid\" loans are the most common outcome in both term lengths, suggesting successful loan repayment in both cases.\n"
   ]
  },
  {
   "cell_type": "code",
   "execution_count": 16,
   "id": "62a2d35c",
   "metadata": {},
   "outputs": [
    {
     "name": "stdout",
     "output_type": "stream",
     "text": [
      "loan_status  Charged Off  Current  Fully Paid\n",
      "grade                                        \n",
      "A                    602       40        9443\n",
      "B                   1425      345       10250\n",
      "C                   1347      264        6487\n",
      "D                   1118      222        3967\n",
      "E                    715      179        1948\n",
      "F                    319       73         657\n",
      "G                    101       17         198\n"
     ]
    },
    {
     "data": {
      "image/png": "[encoded data removed]",
      "text/plain": [
       "<Figure size 640x480 with 1 Axes>"
      ]
     },
     "metadata": {},
     "output_type": "display_data"
    }
   ],
   "source": [
    "loangrade= pd.crosstab(df['grade'],df['loan_status'])\n",
    "print(loangrade)\n",
    "loangrade.plot(kind='bar')\n",
    "plt.title('Loan Status vs. Grade')\n",
    "plt.show()"
   ]
  },
  {
   "cell_type": "markdown",
   "id": "3267e008",
   "metadata": {},
   "source": [
    "### Graph Interpretation\n",
    "#### The bar graph depicts loan status data grouped by loan grade, including \"Charged Off,\" \"Current,\" and \"Fully Paid.\" \n",
    "#### Loan Grades and \"Fully Paid\" Loans:\n",
    "Grade A and B have the highest counts of \"Fully Paid\" loans, indicating better repayment performance in higher-grade loans.\n",
    "#### Loan Grades and \"Charged Off\" Loans:\n",
    "Grade B has the most \"Charged Off\" loans, suggesting a correlation between lower-grade loans and higher default rates.\n",
    "#### \"Current\" Loans:\n",
    "Grade B has the most \"Current\" loans, implying borrowers from this grade are still in the repayment phase.\n",
    "#### Loan Grade Distribution:\n",
    "Grade B loans are the most common, while Grade G loans are the least common in the dataset."
   ]
  },
  {
   "cell_type": "code",
   "execution_count": 17,
   "id": "dd270f55",
   "metadata": {},
   "outputs": [
    {
     "name": "stdout",
     "output_type": "stream",
     "text": [
      "loan_status          Charged Off  Current  Fully Paid\n",
      "verification_status                                  \n",
      "Not Verified                2142      227       14552\n",
      "Source Verified             1434      310        8243\n",
      "Verified                    2051      603       10155\n"
     ]
    },
    {
     "data": {
      "image/png": "[encoded data removed]",
      "text/plain": [
       "<Figure size 640x480 with 1 Axes>"
      ]
     },
     "metadata": {},
     "output_type": "display_data"
    }
   ],
   "source": [
    "loanverification= pd.crosstab(df['verification_status'],df['loan_status'])\n",
    "print(loanverification)\n",
    "loanverification.plot(kind='bar')\n",
    "plt.title('Loan_Status vs. Verification_status')\n",
    "plt.show()"
   ]
  },
  {
   "cell_type": "markdown",
   "id": "3bc7281b",
   "metadata": {},
   "source": [
    "#### The bar graph illustrates loan status data categorized by verification status, including \"Charged Off,\" \"Current,\" and \"Fully Paid.\"\n",
    "#### - Table above graph gives details of count in each category.\n",
    "#### - For \"Not Verified\" loans, \"Fully Paid\" is the most common status.\n",
    "#### - \"Source Verified\" loans also show \"Fully Paid\" as the predominant status.\n",
    "#### - \"Verified\" loans have a higher number of \"Current\" loans and a substantial count of \"Charged Off\" loans."
   ]
  },
  {
   "cell_type": "markdown",
   "id": "117ab603",
   "metadata": {},
   "source": [
    "### 11.Using a user defined function convert the ‘emp_len’ column into categorical column as follows -\n",
    "If emp_len is less than equals to 1 then recode as ‘fresher’.\n",
    "If emp_len is greater than 1 and less than 3 then recode as ‘junior’.\n",
    "If emp_len is greater than 3 and less than 7 then recode as ‘senior’\n",
    "If emp_len is greater than 7 then recode as ‘expert’."
   ]
  },
  {
   "cell_type": "code",
   "execution_count": 89,
   "id": "5dc0deb2",
   "metadata": {},
   "outputs": [],
   "source": [
    "def emp_len (x):\n",
    "    if x<=1:\n",
    "        return 'fresher'\n",
    "    if x>1 and x<=3:\n",
    "        return 'junior'\n",
    "    if x>3 and x<=7:\n",
    "        return 'senior'\n",
    "    if x>7:\n",
    "        return 'expert'"
   ]
  },
  {
   "cell_type": "code",
   "execution_count": 90,
   "id": "d3c13645",
   "metadata": {},
   "outputs": [
    {
     "data": {
      "text/plain": [
       "0         expert\n",
       "1        fresher\n",
       "2         expert\n",
       "3         expert\n",
       "4        fresher\n",
       "          ...   \n",
       "39712     senior\n",
       "39713     junior\n",
       "39714    fresher\n",
       "39715    fresher\n",
       "39716    fresher\n",
       "Name: emp_length, Length: 39717, dtype: object"
      ]
     },
     "execution_count": 90,
     "metadata": {},
     "output_type": "execute_result"
    }
   ],
   "source": [
    "df['emp_length'].map(emp_len)"
   ]
  },
  {
   "cell_type": "markdown",
   "id": "f188a971",
   "metadata": {},
   "source": [
    "### 12.Find the sum of ‘loan_amnt’ for each grade and display the distribution of ‘loan_amnt’ using a pie plot."
   ]
  },
  {
   "cell_type": "code",
   "execution_count": 104,
   "id": "f3620a5b",
   "metadata": {},
   "outputs": [
    {
     "name": "stdout",
     "output_type": "stream",
     "text": [
      "Sum of loan amount by gardes is as follows: \n"
     ]
    },
    {
     "data": {
      "text/plain": [
       "grade\n",
       "A     86982400\n",
       "B    133651350\n",
       "C     89115825\n",
       "D     65160400\n",
       "E     45037900\n",
       "F     19263100\n",
       "G      6391675\n",
       "Name: loan_amnt, dtype: int64"
      ]
     },
     "execution_count": 104,
     "metadata": {},
     "output_type": "execute_result"
    }
   ],
   "source": [
    "print('Sum of loan amount by gardes is as follows: ')\n",
    "df.groupby('grade')['loan_amnt'].sum()"
   ]
  },
  {
   "cell_type": "code",
   "execution_count": 6,
   "id": "bd760c62",
   "metadata": {
    "scrolled": true
   },
   "outputs": [
    {
     "data": {
      "image/png": "[encoded data removed]",
      "text/plain": [
       "<Figure size 640x480 with 1 Axes>"
      ]
     },
     "metadata": {},
     "output_type": "display_data"
    }
   ],
   "source": [
    "df.groupby('grade')['loan_amnt'].sum().plot(kind='pie',subplots=True, autopct='%1.2f%%')\n",
    "plt.title('Pie Chart showing percentage of loan amounts by grades')\n",
    "plt.show()"
   ]
  },
  {
   "cell_type": "markdown",
   "id": "ea32f37a",
   "metadata": {},
   "source": [
    "### The pie chart reveals the distribution of loans by grade:\n",
    "\n",
    "#### Grade B constitutes the largest share at 29.99%.\n",
    "#### Grade C follows at 20.00%, with Grade A at 19.52%.\n",
    "#### Grades D, E, F, and G collectively represent a smaller portion.\n",
    "#### Grade G has the smallest share at 1.43%.\n",
    "#### In summary, Grade B loans are the most common, while Grade G loans are the least common in the dataset."
   ]
  }
 ],
 "metadata": {
  "kernelspec": {
   "display_name": "Python 3 (ipykernel)",
   "language": "python",
   "name": "python3"
  },
  "language_info": {
   "codemirror_mode": {
    "name": "ipython",
    "version": 3
   },
   "file_extension": ".py",
   "mimetype": "text/x-python",
   "name": "python",
   "nbconvert_exporter": "python",
   "pygments_lexer": "ipython3",
   "version": "3.11.3"
  }
 },
 "nbformat": 4,
 "nbformat_minor": 5
}
